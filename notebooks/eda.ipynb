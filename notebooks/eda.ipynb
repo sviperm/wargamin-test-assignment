{
 "cells": [
  {
   "cell_type": "code",
   "execution_count": 1,
   "metadata": {},
   "outputs": [],
   "source": [
    "import os\n",
    "\n",
    "import pandas as pd\n",
    "import psycopg2\n",
    "from dotenv import load_dotenv\n",
    "\n",
    "load_dotenv()\n",
    "\n",
    "\n",
    "DATABASE_CONNECTION = {\n",
    "    'dbname': os.getenv('POSTGRES_DB'),\n",
    "    'user': os.getenv('POSTGRES_USER'),\n",
    "    'password': os.getenv('POSTGRES_PASSWORD'),\n",
    "    'host': os.getenv('POSTGRES_HOST'),\n",
    "    'port': os.getenv('POSTGRES_PORT'),\n",
    "}\n",
    "\n",
    "\n",
    "def get_data_from_table(connection, table_name):\n",
    "    query = f\"SELECT * FROM {table_name};\"\n",
    "    with connection.cursor() as cursor:\n",
    "        cursor.execute(query)\n",
    "        rows = cursor.fetchall()\n",
    "        column_names = [desc[0] for desc in cursor.description]\n",
    "    return pd.DataFrame(rows, columns=column_names)"
   ]
  },
  {
   "cell_type": "code",
   "execution_count": 2,
   "metadata": {},
   "outputs": [
    {
     "ename": "UndefinedTable",
     "evalue": "relation \"session_events\" does not exist\nLINE 1: SELECT * FROM session_events;\n                      ^\n",
     "output_type": "error",
     "traceback": [
      "\u001b[0;31m---------------------------------------------------------------------------\u001b[0m",
      "\u001b[0;31mUndefinedTable\u001b[0m                            Traceback (most recent call last)",
      "Cell \u001b[0;32mIn[2], line 6\u001b[0m\n\u001b[1;32m      4\u001b[0m \u001b[39m# Get data from battle_events and session_events tables\u001b[39;00m\n\u001b[1;32m      5\u001b[0m battle_events_df \u001b[39m=\u001b[39m get_data_from_table(connection, \u001b[39m'\u001b[39m\u001b[39mbattle_events\u001b[39m\u001b[39m'\u001b[39m)\n\u001b[0;32m----> 6\u001b[0m session_events_df \u001b[39m=\u001b[39m get_data_from_table(connection, \u001b[39m'\u001b[39;49m\u001b[39msession_events\u001b[39;49m\u001b[39m'\u001b[39;49m)\n\u001b[1;32m      8\u001b[0m \u001b[39m# Close the database connection\u001b[39;00m\n\u001b[1;32m      9\u001b[0m connection\u001b[39m.\u001b[39mclose()\n",
      "Cell \u001b[0;32mIn[1], line 22\u001b[0m, in \u001b[0;36mget_data_from_table\u001b[0;34m(connection, table_name)\u001b[0m\n\u001b[1;32m     20\u001b[0m query \u001b[39m=\u001b[39m \u001b[39mf\u001b[39m\u001b[39m\"\u001b[39m\u001b[39mSELECT * FROM \u001b[39m\u001b[39m{\u001b[39;00mtable_name\u001b[39m}\u001b[39;00m\u001b[39m;\u001b[39m\u001b[39m\"\u001b[39m\n\u001b[1;32m     21\u001b[0m \u001b[39mwith\u001b[39;00m connection\u001b[39m.\u001b[39mcursor() \u001b[39mas\u001b[39;00m cursor:\n\u001b[0;32m---> 22\u001b[0m     cursor\u001b[39m.\u001b[39;49mexecute(query)\n\u001b[1;32m     23\u001b[0m     rows \u001b[39m=\u001b[39m cursor\u001b[39m.\u001b[39mfetchall()\n\u001b[1;32m     24\u001b[0m     column_names \u001b[39m=\u001b[39m [desc[\u001b[39m0\u001b[39m] \u001b[39mfor\u001b[39;00m desc \u001b[39min\u001b[39;00m cursor\u001b[39m.\u001b[39mdescription]\n",
      "\u001b[0;31mUndefinedTable\u001b[0m: relation \"session_events\" does not exist\nLINE 1: SELECT * FROM session_events;\n                      ^\n"
     ]
    }
   ],
   "source": [
    "# Connect to the PostgreSQL database\n",
    "connection = psycopg2.connect(**DATABASE_CONNECTION)\n",
    "\n",
    "# Get data from battle_events and session_events tables\n",
    "battle_events_df = get_data_from_table(connection, 'battle_events')\n",
    "session_events_df = get_data_from_table(connection, 'session_events')\n",
    "\n",
    "# Close the database connection\n",
    "connection.close()\n"
   ]
  },
  {
   "cell_type": "code",
   "execution_count": null,
   "metadata": {},
   "outputs": [],
   "source": []
  }
 ],
 "metadata": {
  "kernelspec": {
   "display_name": "venv",
   "language": "python",
   "name": "python3"
  },
  "language_info": {
   "codemirror_mode": {
    "name": "ipython",
    "version": 3
   },
   "file_extension": ".py",
   "mimetype": "text/x-python",
   "name": "python",
   "nbconvert_exporter": "python",
   "pygments_lexer": "ipython3",
   "version": "3.10.11"
  },
  "orig_nbformat": 4
 },
 "nbformat": 4,
 "nbformat_minor": 2
}
